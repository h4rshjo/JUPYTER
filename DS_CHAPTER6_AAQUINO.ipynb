{
  "cells": [
    {
      "cell_type": "markdown",
      "metadata": {
        "id": "Kp4wPlUUHCkS"
      },
      "source": [
        "Instructions: By continuing the previous model based on the micro video lecture posted(Refer to DS Chapter 6 CARD and C50 Code review). Construct a C5.0 model using the test data set that utilizes the same target variable, predictor variables, and minimum cases criterion. Visualize the decision tree."
      ]
    },
    {
      "cell_type": "code",
      "source": [
        "import os\n",
        "import pandas as pd\n",
        "import graphviz\n",
        "import statsmodels.tools as stattools\n",
        "import numpy as np\n",
        "from sklearn.tree import DecisionTreeClassifier, export_graphviz"
      ],
      "metadata": {
        "id": "CbiHs0F6EwE1"
      },
      "execution_count": null,
      "outputs": []
    },
    {
      "cell_type": "code",
      "source": [
        "from google.colab import files\n",
        "uploaded = files.upload()\n",
        "adult_test = pd.read_csv(\"adult_ch6_test\")\n",
        "adult_train = pd.read_csv(\"adult_ch6_training\")"
      ],
      "metadata": {
        "colab": {
          "base_uri": "https://localhost:8080/",
          "height": 107
        },
        "id": "fw_IQbEpEzas",
        "outputId": "869a250a-e05f-493c-ca56-37cf2feaad33"
      },
      "execution_count": null,
      "outputs": [
        {
          "output_type": "display_data",
          "data": {
            "text/plain": [
              "<IPython.core.display.HTML object>"
            ],
            "text/html": [
              "\n",
              "     <input type=\"file\" id=\"files-da383e5a-bb74-4ad8-adaf-0e0bad0dd0f3\" name=\"files[]\" multiple disabled\n",
              "        style=\"border:none\" />\n",
              "     <output id=\"result-da383e5a-bb74-4ad8-adaf-0e0bad0dd0f3\">\n",
              "      Upload widget is only available when the cell has been executed in the\n",
              "      current browser session. Please rerun this cell to enable.\n",
              "      </output>\n",
              "      <script>// Copyright 2017 Google LLC\n",
              "//\n",
              "// Licensed under the Apache License, Version 2.0 (the \"License\");\n",
              "// you may not use this file except in compliance with the License.\n",
              "// You may obtain a copy of the License at\n",
              "//\n",
              "//      http://www.apache.org/licenses/LICENSE-2.0\n",
              "//\n",
              "// Unless required by applicable law or agreed to in writing, software\n",
              "// distributed under the License is distributed on an \"AS IS\" BASIS,\n",
              "// WITHOUT WARRANTIES OR CONDITIONS OF ANY KIND, either express or implied.\n",
              "// See the License for the specific language governing permissions and\n",
              "// limitations under the License.\n",
              "\n",
              "/**\n",
              " * @fileoverview Helpers for google.colab Python module.\n",
              " */\n",
              "(function(scope) {\n",
              "function span(text, styleAttributes = {}) {\n",
              "  const element = document.createElement('span');\n",
              "  element.textContent = text;\n",
              "  for (const key of Object.keys(styleAttributes)) {\n",
              "    element.style[key] = styleAttributes[key];\n",
              "  }\n",
              "  return element;\n",
              "}\n",
              "\n",
              "// Max number of bytes which will be uploaded at a time.\n",
              "const MAX_PAYLOAD_SIZE = 100 * 1024;\n",
              "\n",
              "function _uploadFiles(inputId, outputId) {\n",
              "  const steps = uploadFilesStep(inputId, outputId);\n",
              "  const outputElement = document.getElementById(outputId);\n",
              "  // Cache steps on the outputElement to make it available for the next call\n",
              "  // to uploadFilesContinue from Python.\n",
              "  outputElement.steps = steps;\n",
              "\n",
              "  return _uploadFilesContinue(outputId);\n",
              "}\n",
              "\n",
              "// This is roughly an async generator (not supported in the browser yet),\n",
              "// where there are multiple asynchronous steps and the Python side is going\n",
              "// to poll for completion of each step.\n",
              "// This uses a Promise to block the python side on completion of each step,\n",
              "// then passes the result of the previous step as the input to the next step.\n",
              "function _uploadFilesContinue(outputId) {\n",
              "  const outputElement = document.getElementById(outputId);\n",
              "  const steps = outputElement.steps;\n",
              "\n",
              "  const next = steps.next(outputElement.lastPromiseValue);\n",
              "  return Promise.resolve(next.value.promise).then((value) => {\n",
              "    // Cache the last promise value to make it available to the next\n",
              "    // step of the generator.\n",
              "    outputElement.lastPromiseValue = value;\n",
              "    return next.value.response;\n",
              "  });\n",
              "}\n",
              "\n",
              "/**\n",
              " * Generator function which is called between each async step of the upload\n",
              " * process.\n",
              " * @param {string} inputId Element ID of the input file picker element.\n",
              " * @param {string} outputId Element ID of the output display.\n",
              " * @return {!Iterable<!Object>} Iterable of next steps.\n",
              " */\n",
              "function* uploadFilesStep(inputId, outputId) {\n",
              "  const inputElement = document.getElementById(inputId);\n",
              "  inputElement.disabled = false;\n",
              "\n",
              "  const outputElement = document.getElementById(outputId);\n",
              "  outputElement.innerHTML = '';\n",
              "\n",
              "  const pickedPromise = new Promise((resolve) => {\n",
              "    inputElement.addEventListener('change', (e) => {\n",
              "      resolve(e.target.files);\n",
              "    });\n",
              "  });\n",
              "\n",
              "  const cancel = document.createElement('button');\n",
              "  inputElement.parentElement.appendChild(cancel);\n",
              "  cancel.textContent = 'Cancel upload';\n",
              "  const cancelPromise = new Promise((resolve) => {\n",
              "    cancel.onclick = () => {\n",
              "      resolve(null);\n",
              "    };\n",
              "  });\n",
              "\n",
              "  // Wait for the user to pick the files.\n",
              "  const files = yield {\n",
              "    promise: Promise.race([pickedPromise, cancelPromise]),\n",
              "    response: {\n",
              "      action: 'starting',\n",
              "    }\n",
              "  };\n",
              "\n",
              "  cancel.remove();\n",
              "\n",
              "  // Disable the input element since further picks are not allowed.\n",
              "  inputElement.disabled = true;\n",
              "\n",
              "  if (!files) {\n",
              "    return {\n",
              "      response: {\n",
              "        action: 'complete',\n",
              "      }\n",
              "    };\n",
              "  }\n",
              "\n",
              "  for (const file of files) {\n",
              "    const li = document.createElement('li');\n",
              "    li.append(span(file.name, {fontWeight: 'bold'}));\n",
              "    li.append(span(\n",
              "        `(${file.type || 'n/a'}) - ${file.size} bytes, ` +\n",
              "        `last modified: ${\n",
              "            file.lastModifiedDate ? file.lastModifiedDate.toLocaleDateString() :\n",
              "                                    'n/a'} - `));\n",
              "    const percent = span('0% done');\n",
              "    li.appendChild(percent);\n",
              "\n",
              "    outputElement.appendChild(li);\n",
              "\n",
              "    const fileDataPromise = new Promise((resolve) => {\n",
              "      const reader = new FileReader();\n",
              "      reader.onload = (e) => {\n",
              "        resolve(e.target.result);\n",
              "      };\n",
              "      reader.readAsArrayBuffer(file);\n",
              "    });\n",
              "    // Wait for the data to be ready.\n",
              "    let fileData = yield {\n",
              "      promise: fileDataPromise,\n",
              "      response: {\n",
              "        action: 'continue',\n",
              "      }\n",
              "    };\n",
              "\n",
              "    // Use a chunked sending to avoid message size limits. See b/62115660.\n",
              "    let position = 0;\n",
              "    do {\n",
              "      const length = Math.min(fileData.byteLength - position, MAX_PAYLOAD_SIZE);\n",
              "      const chunk = new Uint8Array(fileData, position, length);\n",
              "      position += length;\n",
              "\n",
              "      const base64 = btoa(String.fromCharCode.apply(null, chunk));\n",
              "      yield {\n",
              "        response: {\n",
              "          action: 'append',\n",
              "          file: file.name,\n",
              "          data: base64,\n",
              "        },\n",
              "      };\n",
              "\n",
              "      let percentDone = fileData.byteLength === 0 ?\n",
              "          100 :\n",
              "          Math.round((position / fileData.byteLength) * 100);\n",
              "      percent.textContent = `${percentDone}% done`;\n",
              "\n",
              "    } while (position < fileData.byteLength);\n",
              "  }\n",
              "\n",
              "  // All done.\n",
              "  yield {\n",
              "    response: {\n",
              "      action: 'complete',\n",
              "    }\n",
              "  };\n",
              "}\n",
              "\n",
              "scope.google = scope.google || {};\n",
              "scope.google.colab = scope.google.colab || {};\n",
              "scope.google.colab._files = {\n",
              "  _uploadFiles,\n",
              "  _uploadFilesContinue,\n",
              "};\n",
              "})(self);\n",
              "</script> "
            ]
          },
          "metadata": {}
        },
        {
          "output_type": "stream",
          "name": "stdout",
          "text": [
            "Saving adult_ch6_test to adult_ch6_test (2)\n",
            "Saving adult_ch6_training to adult_ch6_training (2)\n"
          ]
        }
      ]
    },
    {
      "cell_type": "code",
      "execution_count": null,
      "metadata": {
        "id": "uZzNrMgoG79U"
      },
      "outputs": [],
      "source": [
        "#save target variable\n",
        "y = adult_test[['Income']]"
      ]
    },
    {
      "cell_type": "code",
      "execution_count": null,
      "metadata": {
        "id": "X8gmgGraG766",
        "colab": {
          "base_uri": "https://localhost:8080/"
        },
        "outputId": "d8d1e1b3-173c-41e1-f4b4-44fce7c3974c"
      },
      "outputs": [
        {
          "output_type": "stream",
          "name": "stderr",
          "text": [
            "/usr/local/lib/python3.8/dist-packages/statsmodels/tools/tools.py:158: FutureWarning: categorical is deprecated. Use pandas Categorical to represent categorical data and can get_dummies to construct dummy arrays. It will be removed after release 0.13.\n",
            "  warnings.warn(\n"
          ]
        }
      ],
      "source": [
        "# convert categorical variable to dummy variables\n",
        "mar_np = np.array(adult_test['Marital status'])\n",
        "(mar_cat, mar_cat_dict) = stattools.categorical(mar_np, drop=True, dictnames=True)"
      ]
    },
    {
      "cell_type": "code",
      "execution_count": null,
      "metadata": {
        "id": "-BKt3lJ6G74m"
      },
      "outputs": [],
      "source": [
        "# combine the dummy variables back with the\n",
        "mar_cat_pd = pd.DataFrame(mar_cat)\n",
        "X = pd.concat((adult_test[['Cap_Gains_Losses']], mar_cat_pd), axis = 1)"
      ]
    },
    {
      "cell_type": "code",
      "execution_count": null,
      "metadata": {
        "id": "slRJZkgLG72P"
      },
      "outputs": [],
      "source": [
        "# specify names of combined matrix and the target variable\n",
        "X_names = [\"Cap_Gains_Losses\", \"Divorced\", \"Married\", \"Never-married\", \"Separated\", \"Widowed\"]\n",
        "y_names = [\"<=50K\", \">50K\"]"
      ]
    },
    {
      "cell_type": "code",
      "execution_count": null,
      "metadata": {
        "id": "mFYspYDwHPSk",
        "colab": {
          "base_uri": "https://localhost:8080/"
        },
        "outputId": "e05aaa38-684e-4b34-f2a0-50d88fa97fc2"
      },
      "outputs": [
        {
          "output_type": "stream",
          "name": "stderr",
          "text": [
            "/usr/local/lib/python3.8/dist-packages/sklearn/utils/validation.py:1688: FutureWarning: Feature names only support names that are all strings. Got feature names with dtypes: ['int', 'str']. An error will be raised in 1.2.\n",
            "  warnings.warn(\n"
          ]
        }
      ],
      "source": [
        "# train C5.0 model\n",
        "c50_01 = DecisionTreeClassifier(criterion = \"entropy\", min_samples_split=75, max_leaf_nodes=5).fit(X,y)"
      ]
    },
    {
      "cell_type": "code",
      "execution_count": null,
      "metadata": {
        "id": "tytZ_qWkHPQJ"
      },
      "outputs": [],
      "source": [
        "# obtain tree structure with labeles\n",
        "data = export_graphviz(c50_01, out_file=None, feature_names=X_names, class_names=y_names)"
      ]
    },
    {
      "cell_type": "code",
      "execution_count": null,
      "metadata": {
        "id": "buBZAiQBHPNj",
        "colab": {
          "base_uri": "https://localhost:8080/",
          "height": 599
        },
        "outputId": "39f186c5-e1ca-4410-ad49-4a8d7981472c"
      },
      "outputs": [
        {
          "output_type": "execute_result",
          "data": {
            "text/plain": [
              "<graphviz.files.Source at 0x7f97822ecaf0>"
            ],
            "image/svg+xml": "<?xml version=\"1.0\" encoding=\"UTF-8\" standalone=\"no\"?>\n<!DOCTYPE svg PUBLIC \"-//W3C//DTD SVG 1.1//EN\"\n \"http://www.w3.org/Graphics/SVG/1.1/DTD/svg11.dtd\">\n<!-- Generated by graphviz version 2.40.1 (20161225.0304)\n -->\n<!-- Title: Tree Pages: 1 -->\n<svg width=\"732pt\" height=\"433pt\"\n viewBox=\"0.00 0.00 732.00 433.00\" xmlns=\"http://www.w3.org/2000/svg\" xmlns:xlink=\"http://www.w3.org/1999/xlink\">\n<g id=\"graph0\" class=\"graph\" transform=\"scale(1 1) rotate(0) translate(4 429)\">\n<title>Tree</title>\n<polygon fill=\"#ffffff\" stroke=\"transparent\" points=\"-4,4 -4,-429 728,-429 728,4 -4,4\"/>\n<!-- 0 -->\n<g id=\"node1\" class=\"node\">\n<title>0</title>\n<polygon fill=\"none\" stroke=\"#000000\" points=\"383.5,-425 234.5,-425 234.5,-342 383.5,-342 383.5,-425\"/>\n<text text-anchor=\"middle\" x=\"309\" y=\"-409.8\" font-family=\"Helvetica,sans-Serif\" font-size=\"14.00\" fill=\"#000000\">Married &lt;= 0.5</text>\n<text text-anchor=\"middle\" x=\"309\" y=\"-394.8\" font-family=\"Helvetica,sans-Serif\" font-size=\"14.00\" fill=\"#000000\">entropy = 0.796</text>\n<text text-anchor=\"middle\" x=\"309\" y=\"-379.8\" font-family=\"Helvetica,sans-Serif\" font-size=\"14.00\" fill=\"#000000\">samples = 6155</text>\n<text text-anchor=\"middle\" x=\"309\" y=\"-364.8\" font-family=\"Helvetica,sans-Serif\" font-size=\"14.00\" fill=\"#000000\">value = [4674, 1481]</text>\n<text text-anchor=\"middle\" x=\"309\" y=\"-349.8\" font-family=\"Helvetica,sans-Serif\" font-size=\"14.00\" fill=\"#000000\">class = &lt;=50K</text>\n</g>\n<!-- 1 -->\n<g id=\"node2\" class=\"node\">\n<title>1</title>\n<polygon fill=\"none\" stroke=\"#000000\" points=\"300,-306 94,-306 94,-223 300,-223 300,-306\"/>\n<text text-anchor=\"middle\" x=\"197\" y=\"-290.8\" font-family=\"Helvetica,sans-Serif\" font-size=\"14.00\" fill=\"#000000\">Cap_Gains_Losses &lt;= 0.047</text>\n<text text-anchor=\"middle\" x=\"197\" y=\"-275.8\" font-family=\"Helvetica,sans-Serif\" font-size=\"14.00\" fill=\"#000000\">entropy = 0.335</text>\n<text text-anchor=\"middle\" x=\"197\" y=\"-260.8\" font-family=\"Helvetica,sans-Serif\" font-size=\"14.00\" fill=\"#000000\">samples = 3262</text>\n<text text-anchor=\"middle\" x=\"197\" y=\"-245.8\" font-family=\"Helvetica,sans-Serif\" font-size=\"14.00\" fill=\"#000000\">value = [3060, 202]</text>\n<text text-anchor=\"middle\" x=\"197\" y=\"-230.8\" font-family=\"Helvetica,sans-Serif\" font-size=\"14.00\" fill=\"#000000\">class = &lt;=50K</text>\n</g>\n<!-- 0&#45;&gt;1 -->\n<g id=\"edge1\" class=\"edge\">\n<title>0&#45;&gt;1</title>\n<path fill=\"none\" stroke=\"#000000\" d=\"M269.8278,-341.8796C261.2665,-332.7832 252.1268,-323.0722 243.3168,-313.7116\"/>\n<polygon fill=\"#000000\" stroke=\"#000000\" points=\"245.7417,-311.1813 236.3394,-306.2981 240.6443,-315.9789 245.7417,-311.1813\"/>\n<text text-anchor=\"middle\" x=\"235.5821\" y=\"-327.5866\" font-family=\"Helvetica,sans-Serif\" font-size=\"14.00\" fill=\"#000000\">True</text>\n</g>\n<!-- 2 -->\n<g id=\"node5\" class=\"node\">\n<title>2</title>\n<polygon fill=\"none\" stroke=\"#000000\" points=\"524,-306 318,-306 318,-223 524,-223 524,-306\"/>\n<text text-anchor=\"middle\" x=\"421\" y=\"-290.8\" font-family=\"Helvetica,sans-Serif\" font-size=\"14.00\" fill=\"#000000\">Cap_Gains_Losses &lt;= 0.051</text>\n<text text-anchor=\"middle\" x=\"421\" y=\"-275.8\" font-family=\"Helvetica,sans-Serif\" font-size=\"14.00\" fill=\"#000000\">entropy = 0.99</text>\n<text text-anchor=\"middle\" x=\"421\" y=\"-260.8\" font-family=\"Helvetica,sans-Serif\" font-size=\"14.00\" fill=\"#000000\">samples = 2893</text>\n<text text-anchor=\"middle\" x=\"421\" y=\"-245.8\" font-family=\"Helvetica,sans-Serif\" font-size=\"14.00\" fill=\"#000000\">value = [1614, 1279]</text>\n<text text-anchor=\"middle\" x=\"421\" y=\"-230.8\" font-family=\"Helvetica,sans-Serif\" font-size=\"14.00\" fill=\"#000000\">class = &lt;=50K</text>\n</g>\n<!-- 0&#45;&gt;2 -->\n<g id=\"edge4\" class=\"edge\">\n<title>0&#45;&gt;2</title>\n<path fill=\"none\" stroke=\"#000000\" d=\"M348.1722,-341.8796C356.7335,-332.7832 365.8732,-323.0722 374.6832,-313.7116\"/>\n<polygon fill=\"#000000\" stroke=\"#000000\" points=\"377.3557,-315.9789 381.6606,-306.2981 372.2583,-311.1813 377.3557,-315.9789\"/>\n<text text-anchor=\"middle\" x=\"382.4179\" y=\"-327.5866\" font-family=\"Helvetica,sans-Serif\" font-size=\"14.00\" fill=\"#000000\">False</text>\n</g>\n<!-- 5 -->\n<g id=\"node3\" class=\"node\">\n<title>5</title>\n<polygon fill=\"none\" stroke=\"#000000\" points=\"140,-179.5 0,-179.5 0,-111.5 140,-111.5 140,-179.5\"/>\n<text text-anchor=\"middle\" x=\"70\" y=\"-164.3\" font-family=\"Helvetica,sans-Serif\" font-size=\"14.00\" fill=\"#000000\">entropy = 0.247</text>\n<text text-anchor=\"middle\" x=\"70\" y=\"-149.3\" font-family=\"Helvetica,sans-Serif\" font-size=\"14.00\" fill=\"#000000\">samples = 3098</text>\n<text text-anchor=\"middle\" x=\"70\" y=\"-134.3\" font-family=\"Helvetica,sans-Serif\" font-size=\"14.00\" fill=\"#000000\">value = [2971, 127]</text>\n<text text-anchor=\"middle\" x=\"70\" y=\"-119.3\" font-family=\"Helvetica,sans-Serif\" font-size=\"14.00\" fill=\"#000000\">class = &lt;=50K</text>\n</g>\n<!-- 1&#45;&gt;5 -->\n<g id=\"edge2\" class=\"edge\">\n<title>1&#45;&gt;5</title>\n<path fill=\"none\" stroke=\"#000000\" d=\"M152.5816,-222.8796C140.1421,-211.2237 126.6257,-198.5587 114.199,-186.9148\"/>\n<polygon fill=\"#000000\" stroke=\"#000000\" points=\"116.3121,-184.0985 106.6218,-179.8149 111.5259,-189.2065 116.3121,-184.0985\"/>\n</g>\n<!-- 6 -->\n<g id=\"node4\" class=\"node\">\n<title>6</title>\n<polygon fill=\"none\" stroke=\"#000000\" points=\"276,-179.5 158,-179.5 158,-111.5 276,-111.5 276,-179.5\"/>\n<text text-anchor=\"middle\" x=\"217\" y=\"-164.3\" font-family=\"Helvetica,sans-Serif\" font-size=\"14.00\" fill=\"#000000\">entropy = 0.995</text>\n<text text-anchor=\"middle\" x=\"217\" y=\"-149.3\" font-family=\"Helvetica,sans-Serif\" font-size=\"14.00\" fill=\"#000000\">samples = 164</text>\n<text text-anchor=\"middle\" x=\"217\" y=\"-134.3\" font-family=\"Helvetica,sans-Serif\" font-size=\"14.00\" fill=\"#000000\">value = [89, 75]</text>\n<text text-anchor=\"middle\" x=\"217\" y=\"-119.3\" font-family=\"Helvetica,sans-Serif\" font-size=\"14.00\" fill=\"#000000\">class = &lt;=50K</text>\n</g>\n<!-- 1&#45;&gt;6 -->\n<g id=\"edge3\" class=\"edge\">\n<title>1&#45;&gt;6</title>\n<path fill=\"none\" stroke=\"#000000\" d=\"M203.995,-222.8796C205.7877,-212.2134 207.7223,-200.7021 209.5376,-189.9015\"/>\n<polygon fill=\"#000000\" stroke=\"#000000\" points=\"213.0269,-190.2568 211.2328,-179.8149 206.1237,-189.0965 213.0269,-190.2568\"/>\n</g>\n<!-- 3 -->\n<g id=\"node6\" class=\"node\">\n<title>3</title>\n<polygon fill=\"none\" stroke=\"#000000\" points=\"472,-179.5 332,-179.5 332,-111.5 472,-111.5 472,-179.5\"/>\n<text text-anchor=\"middle\" x=\"402\" y=\"-164.3\" font-family=\"Helvetica,sans-Serif\" font-size=\"14.00\" fill=\"#000000\">entropy = 0.954</text>\n<text text-anchor=\"middle\" x=\"402\" y=\"-149.3\" font-family=\"Helvetica,sans-Serif\" font-size=\"14.00\" fill=\"#000000\">samples = 2506</text>\n<text text-anchor=\"middle\" x=\"402\" y=\"-134.3\" font-family=\"Helvetica,sans-Serif\" font-size=\"14.00\" fill=\"#000000\">value = [1567, 939]</text>\n<text text-anchor=\"middle\" x=\"402\" y=\"-119.3\" font-family=\"Helvetica,sans-Serif\" font-size=\"14.00\" fill=\"#000000\">class = &lt;=50K</text>\n</g>\n<!-- 2&#45;&gt;3 -->\n<g id=\"edge5\" class=\"edge\">\n<title>2&#45;&gt;3</title>\n<path fill=\"none\" stroke=\"#000000\" d=\"M414.3547,-222.8796C412.6517,-212.2134 410.8138,-200.7021 409.0893,-189.9015\"/>\n<polygon fill=\"#000000\" stroke=\"#000000\" points=\"412.5118,-189.138 407.4789,-179.8149 405.5994,-190.2417 412.5118,-189.138\"/>\n</g>\n<!-- 4 -->\n<g id=\"node7\" class=\"node\">\n<title>4</title>\n<polygon fill=\"none\" stroke=\"#000000\" points=\"696,-187 490,-187 490,-104 696,-104 696,-187\"/>\n<text text-anchor=\"middle\" x=\"593\" y=\"-171.8\" font-family=\"Helvetica,sans-Serif\" font-size=\"14.00\" fill=\"#000000\">Cap_Gains_Losses &lt;= 0.284</text>\n<text text-anchor=\"middle\" x=\"593\" y=\"-156.8\" font-family=\"Helvetica,sans-Serif\" font-size=\"14.00\" fill=\"#000000\">entropy = 0.534</text>\n<text text-anchor=\"middle\" x=\"593\" y=\"-141.8\" font-family=\"Helvetica,sans-Serif\" font-size=\"14.00\" fill=\"#000000\">samples = 387</text>\n<text text-anchor=\"middle\" x=\"593\" y=\"-126.8\" font-family=\"Helvetica,sans-Serif\" font-size=\"14.00\" fill=\"#000000\">value = [47, 340]</text>\n<text text-anchor=\"middle\" x=\"593\" y=\"-111.8\" font-family=\"Helvetica,sans-Serif\" font-size=\"14.00\" fill=\"#000000\">class = &gt;50K</text>\n</g>\n<!-- 2&#45;&gt;4 -->\n<g id=\"edge6\" class=\"edge\">\n<title>2&#45;&gt;4</title>\n<path fill=\"none\" stroke=\"#000000\" d=\"M481.1573,-222.8796C495.167,-213.1868 510.1854,-202.7961 524.525,-192.8752\"/>\n<polygon fill=\"#000000\" stroke=\"#000000\" points=\"526.6444,-195.6649 532.8767,-187.0969 522.6617,-189.9083 526.6444,-195.6649\"/>\n</g>\n<!-- 7 -->\n<g id=\"node8\" class=\"node\">\n<title>7</title>\n<polygon fill=\"none\" stroke=\"#000000\" points=\"582,-68 464,-68 464,0 582,0 582,-68\"/>\n<text text-anchor=\"middle\" x=\"523\" y=\"-52.8\" font-family=\"Helvetica,sans-Serif\" font-size=\"14.00\" fill=\"#000000\">entropy = 0.116</text>\n<text text-anchor=\"middle\" x=\"523\" y=\"-37.8\" font-family=\"Helvetica,sans-Serif\" font-size=\"14.00\" fill=\"#000000\">samples = 193</text>\n<text text-anchor=\"middle\" x=\"523\" y=\"-22.8\" font-family=\"Helvetica,sans-Serif\" font-size=\"14.00\" fill=\"#000000\">value = [3, 190]</text>\n<text text-anchor=\"middle\" x=\"523\" y=\"-7.8\" font-family=\"Helvetica,sans-Serif\" font-size=\"14.00\" fill=\"#000000\">class = &gt;50K</text>\n</g>\n<!-- 4&#45;&gt;7 -->\n<g id=\"edge7\" class=\"edge\">\n<title>4&#45;&gt;7</title>\n<path fill=\"none\" stroke=\"#000000\" d=\"M566.9346,-103.9815C561.3955,-95.1585 555.5364,-85.8258 549.9645,-76.9506\"/>\n<polygon fill=\"#000000\" stroke=\"#000000\" points=\"552.7922,-74.872 544.5108,-68.2637 546.8637,-78.594 552.7922,-74.872\"/>\n</g>\n<!-- 8 -->\n<g id=\"node9\" class=\"node\">\n<title>8</title>\n<polygon fill=\"none\" stroke=\"#000000\" points=\"724,-68 600,-68 600,0 724,0 724,-68\"/>\n<text text-anchor=\"middle\" x=\"662\" y=\"-52.8\" font-family=\"Helvetica,sans-Serif\" font-size=\"14.00\" fill=\"#000000\">entropy = 0.772</text>\n<text text-anchor=\"middle\" x=\"662\" y=\"-37.8\" font-family=\"Helvetica,sans-Serif\" font-size=\"14.00\" fill=\"#000000\">samples = 194</text>\n<text text-anchor=\"middle\" x=\"662\" y=\"-22.8\" font-family=\"Helvetica,sans-Serif\" font-size=\"14.00\" fill=\"#000000\">value = [44, 150]</text>\n<text text-anchor=\"middle\" x=\"662\" y=\"-7.8\" font-family=\"Helvetica,sans-Serif\" font-size=\"14.00\" fill=\"#000000\">class = &gt;50K</text>\n</g>\n<!-- 4&#45;&gt;8 -->\n<g id=\"edge8\" class=\"edge\">\n<title>4&#45;&gt;8</title>\n<path fill=\"none\" stroke=\"#000000\" d=\"M618.6931,-103.9815C624.1531,-95.1585 629.9284,-85.8258 635.4207,-76.9506\"/>\n<polygon fill=\"#000000\" stroke=\"#000000\" points=\"638.5104,-78.609 640.7965,-68.2637 632.558,-74.9254 638.5104,-78.609\"/>\n</g>\n</g>\n</svg>\n"
          },
          "metadata": {},
          "execution_count": 59
        }
      ],
      "source": [
        "# display the plot\n",
        "graphviz.Source(data)"
      ]
    },
    {
      "cell_type": "markdown",
      "metadata": {
        "id": "0nTTuuY5HXzc"
      },
      "source": [
        "Use random forests on the training data set to predict income using marital status and capital gains and losses."
      ]
    },
    {
      "cell_type": "code",
      "execution_count": null,
      "metadata": {
        "id": "17fKsjPRG7z2"
      },
      "outputs": [],
      "source": [
        "# import required packages\n",
        "from sklearn.ensemble import RandomForestClassifier\n",
        "import numpy as np"
      ]
    },
    {
      "cell_type": "code",
      "execution_count": null,
      "metadata": {
        "id": "e8dJEoNsG7xS"
      },
      "outputs": [],
      "source": [
        "# save target variable\n",
        "y = adult_train['Income']"
      ]
    },
    {
      "cell_type": "code",
      "execution_count": null,
      "metadata": {
        "id": "rCIMcx4UG7uX",
        "colab": {
          "base_uri": "https://localhost:8080/"
        },
        "outputId": "51309f33-8c74-4ca5-d412-26feaf3dd4d1"
      },
      "outputs": [
        {
          "output_type": "stream",
          "name": "stderr",
          "text": [
            "/usr/local/lib/python3.8/dist-packages/statsmodels/tools/tools.py:158: FutureWarning: categorical is deprecated. Use pandas Categorical to represent categorical data and can get_dummies to construct dummy arrays. It will be removed after release 0.13.\n",
            "  warnings.warn(\n"
          ]
        }
      ],
      "source": [
        "# convert categorical variable to dummy variables\n",
        "mar_np = np.array(adult_train['Marital status'])\n",
        "(mar_cat, mar_cat_dict) = stattools.categorical(mar_np, drop=True, dictnames=True)"
      ]
    },
    {
      "cell_type": "code",
      "execution_count": null,
      "metadata": {
        "id": "75HzrKHzHfrd"
      },
      "outputs": [],
      "source": [
        "# combine the dummy variables back with the\n",
        "mar_cat_pd = pd.DataFrame(mar_cat)\n",
        "X = pd.concat((adult_train[['Cap_Gains_Losses']], mar_cat_pd), axis = 1)"
      ]
    },
    {
      "cell_type": "code",
      "execution_count": null,
      "metadata": {
        "id": "ivjCYeNVHfo_"
      },
      "outputs": [],
      "source": [
        "# format for random forest model\n",
        "rfy = np.ravel(y)"
      ]
    },
    {
      "cell_type": "code",
      "execution_count": null,
      "metadata": {
        "id": "c5XajObQHfmi",
        "colab": {
          "base_uri": "https://localhost:8080/"
        },
        "outputId": "20936049-ecc3-45bc-a2e2-5e7feb6cded1"
      },
      "outputs": [
        {
          "output_type": "stream",
          "name": "stderr",
          "text": [
            "/usr/local/lib/python3.8/dist-packages/sklearn/utils/validation.py:1688: FutureWarning: Feature names only support names that are all strings. Got feature names with dtypes: ['int', 'str']. An error will be raised in 1.2.\n",
            "  warnings.warn(\n"
          ]
        }
      ],
      "source": [
        "# train random forest model\n",
        "rf01 = RandomForestClassifier(n_estimators = 100, criterion=\"gini\").fit(X,rfy)"
      ]
    },
    {
      "cell_type": "code",
      "execution_count": null,
      "metadata": {
        "id": "rnQ-bk5-Hfjr",
        "colab": {
          "base_uri": "https://localhost:8080/"
        },
        "outputId": "58ff289b-f506-4ab0-d4d5-324b17c8ffbb"
      },
      "outputs": [
        {
          "output_type": "stream",
          "name": "stderr",
          "text": [
            "/usr/local/lib/python3.8/dist-packages/sklearn/utils/validation.py:1688: FutureWarning: Feature names only support names that are all strings. Got feature names with dtypes: ['int', 'str']. An error will be raised in 1.2.\n",
            "  warnings.warn(\n"
          ]
        }
      ],
      "source": [
        "# return predictions\n",
        "rf_train = rf01.predict(X)"
      ]
    },
    {
      "cell_type": "markdown",
      "metadata": {
        "id": "0iNGju6YH3UW"
      },
      "source": [
        "Use random forests using the test data set that utilizes the same target and predictor variables. Does the test data result match the training data result?"
      ]
    },
    {
      "cell_type": "code",
      "execution_count": null,
      "metadata": {
        "id": "UX4lz1DFH6BZ"
      },
      "outputs": [],
      "source": [
        "# save target variable\n",
        "y = adult_test['Income']"
      ]
    },
    {
      "cell_type": "code",
      "execution_count": null,
      "metadata": {
        "id": "3Iau_37MH5_W",
        "colab": {
          "base_uri": "https://localhost:8080/"
        },
        "outputId": "e62bef02-30c7-417f-c778-130857b7e0c9"
      },
      "outputs": [
        {
          "output_type": "stream",
          "name": "stderr",
          "text": [
            "/usr/local/lib/python3.8/dist-packages/statsmodels/tools/tools.py:158: FutureWarning: categorical is deprecated. Use pandas Categorical to represent categorical data and can get_dummies to construct dummy arrays. It will be removed after release 0.13.\n",
            "  warnings.warn(\n"
          ]
        }
      ],
      "source": [
        "# convert categorical variable to dummy variables\n",
        "mar_np = np.array(adult_test['Marital status'])\n",
        "(mar_cat, mar_cat_dict) = stattools.categorical(mar_np, drop=True, dictnames=True)"
      ]
    },
    {
      "cell_type": "code",
      "execution_count": null,
      "metadata": {
        "id": "Rfcs-9Q-H581"
      },
      "outputs": [],
      "source": [
        "# combine the dummy variables back with the\n",
        "mar_cat_pd = pd.DataFrame(mar_cat)\n",
        "X = pd.concat((adult_test[['Cap_Gains_Losses']], mar_cat_pd), axis = 1)"
      ]
    },
    {
      "cell_type": "code",
      "execution_count": null,
      "metadata": {
        "id": "iXhxXeUIH56M"
      },
      "outputs": [],
      "source": [
        "# format for random forest model\n",
        "rfy = np.ravel(y)"
      ]
    },
    {
      "cell_type": "code",
      "execution_count": null,
      "metadata": {
        "id": "xpWs244dH54B",
        "colab": {
          "base_uri": "https://localhost:8080/"
        },
        "outputId": "d56f9b0d-cd58-43b4-c47e-86db52531836"
      },
      "outputs": [
        {
          "output_type": "stream",
          "name": "stderr",
          "text": [
            "/usr/local/lib/python3.8/dist-packages/sklearn/utils/validation.py:1688: FutureWarning: Feature names only support names that are all strings. Got feature names with dtypes: ['int', 'str']. An error will be raised in 1.2.\n",
            "  warnings.warn(\n"
          ]
        }
      ],
      "source": [
        "# train random forest model\n",
        "rf01 = RandomForestClassifier(n_estimators = 100, criterion='gini').fit(X,rfy)"
      ]
    },
    {
      "cell_type": "code",
      "execution_count": null,
      "metadata": {
        "id": "4zdsTr1xHfg4",
        "colab": {
          "base_uri": "https://localhost:8080/"
        },
        "outputId": "0a484e3b-2a66-4cb5-d0c3-f523bf0bbbc9"
      },
      "outputs": [
        {
          "output_type": "stream",
          "name": "stderr",
          "text": [
            "/usr/local/lib/python3.8/dist-packages/sklearn/utils/validation.py:1688: FutureWarning: Feature names only support names that are all strings. Got feature names with dtypes: ['int', 'str']. An error will be raised in 1.2.\n",
            "  warnings.warn(\n"
          ]
        }
      ],
      "source": [
        "# return predictions\n",
        "rf_test = rf01.predict(X)"
      ]
    },
    {
      "cell_type": "code",
      "execution_count": null,
      "metadata": {
        "id": "oESLzH59G7rS",
        "colab": {
          "base_uri": "https://localhost:8080/"
        },
        "outputId": "267fe9ed-9a3e-4b28-ddec-c98b75bb2d38"
      },
      "outputs": [
        {
          "output_type": "execute_result",
          "data": {
            "text/plain": [
              "<=50K    0.926123\n",
              ">50K     0.073877\n",
              "Name: 0, dtype: float64"
            ]
          },
          "metadata": {},
          "execution_count": 73
        }
      ],
      "source": [
        "#this should have an output\n",
        "rf_train = pd.DataFrame(rf_train)\n",
        "rf_train[0].value_counts() / len(rf_train)"
      ]
    },
    {
      "cell_type": "code",
      "execution_count": null,
      "metadata": {
        "id": "q71F8QLkIJJN",
        "colab": {
          "base_uri": "https://localhost:8080/"
        },
        "outputId": "3c7548a4-69d7-4f9f-a099-17f43e3da1e6"
      },
      "outputs": [
        {
          "output_type": "execute_result",
          "data": {
            "text/plain": [
              "<=50K    0.926401\n",
              ">50K     0.073599\n",
              "Name: 0, dtype: float64"
            ]
          },
          "metadata": {},
          "execution_count": 74
        }
      ],
      "source": [
        "#this should have an output\n",
        "rf_test = pd.DataFrame(rf_test)\n",
        "rf_test[0].value_counts() / len(rf_test)"
      ]
    },
    {
      "cell_type": "markdown",
      "metadata": {
        "id": "McPp0uveIOBx"
      },
      "source": [
        "Based on the output, both models should classify the data as 93% for <=50K and 7% for >=50K"
      ]
    },
    {
      "cell_type": "code",
      "source": [
        "import datetime\n",
        "import socket\n",
        "def get_Host_name_IP():\n",
        "    try:\n",
        "        host_name = socket.gethostname()\n",
        "        host_ip = socket.gethostbyname(host_name)\n",
        "        print(\"Hostname:\",host_name)\n",
        "        print(\"IP Address:\",host_ip)\n",
        "    except:\n",
        "        print(\"No visible IP Address\")\n",
        "get_Host_name_IP()\n",
        "now = datetime.datetime.now()\n",
        "print (\"Time Stamp:\", now.strftime(\"%Y-%m-%d %H:%M:%S\"))"
      ],
      "metadata": {
        "id": "DU-KELfjFGjL",
        "colab": {
          "base_uri": "https://localhost:8080/"
        },
        "outputId": "9f1f5d9a-065b-42fc-fb2d-b3cfa2a0ae05"
      },
      "execution_count": null,
      "outputs": [
        {
          "output_type": "stream",
          "name": "stdout",
          "text": [
            "Hostname: daff60d9096c\n",
            "IP Address: 172.28.0.2\n",
            "Time Stamp: 2023-01-14 13:32:30\n"
          ]
        }
      ]
    }
  ],
  "metadata": {
    "colab": {
      "provenance": []
    },
    "kernelspec": {
      "display_name": "Python 3",
      "language": "python",
      "name": "python3"
    },
    "language_info": {
      "codemirror_mode": {
        "name": "ipython",
        "version": 3
      },
      "file_extension": ".py",
      "mimetype": "text/x-python",
      "name": "python",
      "nbconvert_exporter": "python",
      "pygments_lexer": "ipython3",
      "version": "3.8.8"
    }
  },
  "nbformat": 4,
  "nbformat_minor": 0
}