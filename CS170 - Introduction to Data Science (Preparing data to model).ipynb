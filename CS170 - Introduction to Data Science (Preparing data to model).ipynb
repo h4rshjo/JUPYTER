{
  "cells": [
    {
      "cell_type": "markdown",
      "metadata": {
        "id": "Jd9v-2fFPPCV"
      },
      "source": [
        "\n",
        "# CS170 - Introduction to Data Science (Preparing data to model)\n",
        "Instructions Answer each line item by replacing the blanks with the necessary operator or a value. Make sure the kernel is set to Python 3** Once done, right click the actual notebook page and print as PDF. Last part of the notebook is the code for timestamp from your computer - Run it!."
      ]
    },
    {
      "cell_type": "code",
      "execution_count": null,
      "metadata": {
        "colab": {
          "base_uri": "https://localhost:8080/",
          "height": 73
        },
        "id": "MBAoB9jFwl4L",
        "outputId": "d9bf2881-f248-41dc-9d84-2a35b9c57c3a"
      },
      "outputs": [
        {
          "output_type": "display_data",
          "data": {
            "text/plain": [
              "<IPython.core.display.HTML object>"
            ],
            "text/html": [
              "\n",
              "     <input type=\"file\" id=\"files-d4aff6af-bc35-4a4d-b9c2-d430cc0cf7d2\" name=\"files[]\" multiple disabled\n",
              "        style=\"border:none\" />\n",
              "     <output id=\"result-d4aff6af-bc35-4a4d-b9c2-d430cc0cf7d2\">\n",
              "      Upload widget is only available when the cell has been executed in the\n",
              "      current browser session. Please rerun this cell to enable.\n",
              "      </output>\n",
              "      <script>// Copyright 2017 Google LLC\n",
              "//\n",
              "// Licensed under the Apache License, Version 2.0 (the \"License\");\n",
              "// you may not use this file except in compliance with the License.\n",
              "// You may obtain a copy of the License at\n",
              "//\n",
              "//      http://www.apache.org/licenses/LICENSE-2.0\n",
              "//\n",
              "// Unless required by applicable law or agreed to in writing, software\n",
              "// distributed under the License is distributed on an \"AS IS\" BASIS,\n",
              "// WITHOUT WARRANTIES OR CONDITIONS OF ANY KIND, either express or implied.\n",
              "// See the License for the specific language governing permissions and\n",
              "// limitations under the License.\n",
              "\n",
              "/**\n",
              " * @fileoverview Helpers for google.colab Python module.\n",
              " */\n",
              "(function(scope) {\n",
              "function span(text, styleAttributes = {}) {\n",
              "  const element = document.createElement('span');\n",
              "  element.textContent = text;\n",
              "  for (const key of Object.keys(styleAttributes)) {\n",
              "    element.style[key] = styleAttributes[key];\n",
              "  }\n",
              "  return element;\n",
              "}\n",
              "\n",
              "// Max number of bytes which will be uploaded at a time.\n",
              "const MAX_PAYLOAD_SIZE = 100 * 1024;\n",
              "\n",
              "function _uploadFiles(inputId, outputId) {\n",
              "  const steps = uploadFilesStep(inputId, outputId);\n",
              "  const outputElement = document.getElementById(outputId);\n",
              "  // Cache steps on the outputElement to make it available for the next call\n",
              "  // to uploadFilesContinue from Python.\n",
              "  outputElement.steps = steps;\n",
              "\n",
              "  return _uploadFilesContinue(outputId);\n",
              "}\n",
              "\n",
              "// This is roughly an async generator (not supported in the browser yet),\n",
              "// where there are multiple asynchronous steps and the Python side is going\n",
              "// to poll for completion of each step.\n",
              "// This uses a Promise to block the python side on completion of each step,\n",
              "// then passes the result of the previous step as the input to the next step.\n",
              "function _uploadFilesContinue(outputId) {\n",
              "  const outputElement = document.getElementById(outputId);\n",
              "  const steps = outputElement.steps;\n",
              "\n",
              "  const next = steps.next(outputElement.lastPromiseValue);\n",
              "  return Promise.resolve(next.value.promise).then((value) => {\n",
              "    // Cache the last promise value to make it available to the next\n",
              "    // step of the generator.\n",
              "    outputElement.lastPromiseValue = value;\n",
              "    return next.value.response;\n",
              "  });\n",
              "}\n",
              "\n",
              "/**\n",
              " * Generator function which is called between each async step of the upload\n",
              " * process.\n",
              " * @param {string} inputId Element ID of the input file picker element.\n",
              " * @param {string} outputId Element ID of the output display.\n",
              " * @return {!Iterable<!Object>} Iterable of next steps.\n",
              " */\n",
              "function* uploadFilesStep(inputId, outputId) {\n",
              "  const inputElement = document.getElementById(inputId);\n",
              "  inputElement.disabled = false;\n",
              "\n",
              "  const outputElement = document.getElementById(outputId);\n",
              "  outputElement.innerHTML = '';\n",
              "\n",
              "  const pickedPromise = new Promise((resolve) => {\n",
              "    inputElement.addEventListener('change', (e) => {\n",
              "      resolve(e.target.files);\n",
              "    });\n",
              "  });\n",
              "\n",
              "  const cancel = document.createElement('button');\n",
              "  inputElement.parentElement.appendChild(cancel);\n",
              "  cancel.textContent = 'Cancel upload';\n",
              "  const cancelPromise = new Promise((resolve) => {\n",
              "    cancel.onclick = () => {\n",
              "      resolve(null);\n",
              "    };\n",
              "  });\n",
              "\n",
              "  // Wait for the user to pick the files.\n",
              "  const files = yield {\n",
              "    promise: Promise.race([pickedPromise, cancelPromise]),\n",
              "    response: {\n",
              "      action: 'starting',\n",
              "    }\n",
              "  };\n",
              "\n",
              "  cancel.remove();\n",
              "\n",
              "  // Disable the input element since further picks are not allowed.\n",
              "  inputElement.disabled = true;\n",
              "\n",
              "  if (!files) {\n",
              "    return {\n",
              "      response: {\n",
              "        action: 'complete',\n",
              "      }\n",
              "    };\n",
              "  }\n",
              "\n",
              "  for (const file of files) {\n",
              "    const li = document.createElement('li');\n",
              "    li.append(span(file.name, {fontWeight: 'bold'}));\n",
              "    li.append(span(\n",
              "        `(${file.type || 'n/a'}) - ${file.size} bytes, ` +\n",
              "        `last modified: ${\n",
              "            file.lastModifiedDate ? file.lastModifiedDate.toLocaleDateString() :\n",
              "                                    'n/a'} - `));\n",
              "    const percent = span('0% done');\n",
              "    li.appendChild(percent);\n",
              "\n",
              "    outputElement.appendChild(li);\n",
              "\n",
              "    const fileDataPromise = new Promise((resolve) => {\n",
              "      const reader = new FileReader();\n",
              "      reader.onload = (e) => {\n",
              "        resolve(e.target.result);\n",
              "      };\n",
              "      reader.readAsArrayBuffer(file);\n",
              "    });\n",
              "    // Wait for the data to be ready.\n",
              "    let fileData = yield {\n",
              "      promise: fileDataPromise,\n",
              "      response: {\n",
              "        action: 'continue',\n",
              "      }\n",
              "    };\n",
              "\n",
              "    // Use a chunked sending to avoid message size limits. See b/62115660.\n",
              "    let position = 0;\n",
              "    do {\n",
              "      const length = Math.min(fileData.byteLength - position, MAX_PAYLOAD_SIZE);\n",
              "      const chunk = new Uint8Array(fileData, position, length);\n",
              "      position += length;\n",
              "\n",
              "      const base64 = btoa(String.fromCharCode.apply(null, chunk));\n",
              "      yield {\n",
              "        response: {\n",
              "          action: 'append',\n",
              "          file: file.name,\n",
              "          data: base64,\n",
              "        },\n",
              "      };\n",
              "\n",
              "      let percentDone = fileData.byteLength === 0 ?\n",
              "          100 :\n",
              "          Math.round((position / fileData.byteLength) * 100);\n",
              "      percent.textContent = `${percentDone}% done`;\n",
              "\n",
              "    } while (position < fileData.byteLength);\n",
              "  }\n",
              "\n",
              "  // All done.\n",
              "  yield {\n",
              "    response: {\n",
              "      action: 'complete',\n",
              "    }\n",
              "  };\n",
              "}\n",
              "\n",
              "scope.google = scope.google || {};\n",
              "scope.google.colab = scope.google.colab || {};\n",
              "scope.google.colab._files = {\n",
              "  _uploadFiles,\n",
              "  _uploadFilesContinue,\n",
              "};\n",
              "})(self);\n",
              "</script> "
            ]
          },
          "metadata": {}
        },
        {
          "output_type": "stream",
          "name": "stdout",
          "text": [
            "Saving Adult to Adult (1)\n"
          ]
        }
      ],
      "source": [
        "# import required package\n",
        "import pandas as pd\n",
        "\n",
        "#upload file using google colab\n",
        "\n",
        "from google.colab import files\n",
        "uploaded = files.upload()"
      ]
    },
    {
      "cell_type": "code",
      "execution_count": null,
      "metadata": {
        "id": "WclIuyezwpEw"
      },
      "outputs": [],
      "source": [
        "# read the csv adult data using the pandas package\n",
        "adult = pd.read_csv(\"Adult\")"
      ]
    },
    {
      "cell_type": "markdown",
      "metadata": {
        "id": "G5ssBNiQ0N_U"
      },
      "source": [
        "Partition the data set, so that 50% of the records are included in the training data set and 50% are included in the test data set. Use a bar graph to confirm your proportions."
      ]
    },
    {
      "cell_type": "code",
      "execution_count": null,
      "metadata": {
        "id": "6Vknut5IwpCV"
      },
      "outputs": [],
      "source": [
        "# import required packages\n",
        "from sklearn.model_selection import train_test_split\n",
        "import random"
      ]
    },
    {
      "cell_type": "code",
      "execution_count": null,
      "metadata": {
        "id": "sI6D21mGwo_t"
      },
      "outputs": [],
      "source": [
        "# create partition. test is half\n",
        "adult_train, adult_test= train_test_split(adult, test_size = 0.50, random_state = 7)"
      ]
    },
    {
      "cell_type": "code",
      "execution_count": null,
      "metadata": {
        "id": "mNpgqytTwo9D"
      },
      "outputs": [],
      "source": [
        "# collect proportion values in a dataframe\n",
        "df = pd.DataFrame({'Partition':['Train', 'Test'],\n",
        "\t                   'Portion':[(adult_train.shape[0]/adult.shape[0]),\n",
        "\t                              (adult_test.shape[0]/adult.shape[0])]\n",
        "\t                   })"
      ]
    },
    {
      "cell_type": "code",
      "execution_count": null,
      "metadata": {
        "colab": {
          "base_uri": "https://localhost:8080/",
          "height": 310
        },
        "id": "MX0jiWVNwo6m",
        "outputId": "9acacf02-45b9-4ba0-bca8-3d0426db17f0"
      },
      "outputs": [
        {
          "output_type": "execute_result",
          "data": {
            "text/plain": [
              "<matplotlib.axes._subplots.AxesSubplot at 0x7f7337294820>"
            ]
          },
          "metadata": {},
          "execution_count": 40
        },
        {
          "output_type": "display_data",
          "data": {
            "text/plain": [
              "<Figure size 432x288 with 1 Axes>"
            ],
            "image/png": "[encoded data removed]"
          },
          "metadata": {
            "needs_background": "light"
          }
        }
      ],
      "source": [
        "# create barplot\n",
        "df.set_index('Partition').plot(kind='bar')"
      ]
    },
    {
      "cell_type": "markdown",
      "metadata": {
        "id": "M7DhGNjR0SV0"
      },
      "source": [
        "Identify the total number of records in the training data set, and how many records in the training data set have an income value of >50 K.  "
      ]
    },
    {
      "cell_type": "code",
      "execution_count": null,
      "metadata": {
        "colab": {
          "base_uri": "https://localhost:8080/"
        },
        "id": "xS1pjSINwo4K",
        "outputId": "fb1223e3-93a5-40e1-d55b-8ea4eb457b9b"
      },
      "outputs": [
        {
          "output_type": "stream",
          "name": "stdout",
          "text": [
            "The total number of records in the training dataset is 12500\n"
          ]
        }
      ],
      "source": [
        "print('The total number of records in the training dataset is', adult_train.shape[0])"
      ]
    },
    {
      "cell_type": "code",
      "execution_count": null,
      "metadata": {
        "colab": {
          "base_uri": "https://localhost:8080/"
        },
        "id": "lT-7LyGYxp6D",
        "outputId": "d368fe72-8f35-4544-b5e8-ec998f6e0234"
      },
      "outputs": [
        {
          "output_type": "stream",
          "name": "stdout",
          "text": [
            "There are 2981 records in the training data set that have “>50K” income\n"
          ]
        }
      ],
      "source": [
        "print('There are', adult_train.loc[adult_train['income']=='>50K.'].shape[0], 'records in the training data set that have “>50K” income')"
      ]
    },
    {
      "cell_type": "markdown",
      "metadata": {
        "id": "UEpubpbR0V-p"
      },
      "source": [
        "Use your answers from the previous exercise to calculate how many records with income >50 K you need to resample in order to have 35% of the rebalanced data set have incomes of >50 K"
      ]
    },
    {
      "cell_type": "code",
      "execution_count": null,
      "metadata": {
        "id": "4kkjDMlWwo1t"
      },
      "outputs": [],
      "source": [
        "# create variables needed to compute resampled record size\n",
        "greater_50K_records = adult_train.loc[adult_train['income']=='>50K.'].shape[0]\n",
        "total_records = adult_train.shape[0]"
      ]
    },
    {
      "cell_type": "code",
      "execution_count": null,
      "metadata": {
        "colab": {
          "base_uri": "https://localhost:8080/"
        },
        "id": "I8wEzbrxwozA",
        "outputId": "e9c2cdb9-ff52-4dc2-fd47-610c39398318"
      },
      "outputs": [
        {
          "output_type": "execute_result",
          "data": {
            "text/plain": [
              "2144.6153846153848"
            ]
          },
          "metadata": {},
          "execution_count": 44
        }
      ],
      "source": [
        "# determin portion size to ressample (by 35%)\n",
        "(0.35 * total_records - greater_50K_records) / 0.65\n"
      ]
    },
    {
      "cell_type": "markdown",
      "metadata": {
        "id": "RQB7z9lY0bX5"
      },
      "source": [
        "Perform the rebalancing described in the previous exercise and confirm that 35% of the records in the rebalanced data set have incomes >50 K."
      ]
    },
    {
      "cell_type": "code",
      "execution_count": null,
      "metadata": {
        "id": "x8ClOAXCwowl"
      },
      "outputs": [],
      "source": [
        "# subset the records to be resampled\n",
        "to_resample = adult_train.loc[adult_train['income']=='>50K.']"
      ]
    },
    {
      "cell_type": "code",
      "execution_count": null,
      "metadata": {
        "id": "4WYSCK87wotB"
      },
      "outputs": [],
      "source": [
        "# resample the '>50K' records to the determined sample size\n",
        "our_resample = to_resample.sample(n = 2145, replace = True)"
      ]
    },
    {
      "cell_type": "code",
      "execution_count": null,
      "metadata": {
        "id": "aEBnbfJDwoqi"
      },
      "outputs": [],
      "source": [
        "# concatenate the sampled data with the rest of the training data so that it's rebalanced\n",
        "adult_train_rebal = pd.concat([adult_train, our_resample])"
      ]
    },
    {
      "cell_type": "markdown",
      "metadata": {
        "id": "MQzrWJLg0oIj"
      },
      "source": [
        "The baseline is determined by looking at which income class has the greatest proportion of the data which is <=50K. If a model were to predict no >50K then the model would have an accuracy of 76%. Therefore the selected model would have to outperform this baseline model in order to have any use in the real world."
      ]
    },
    {
      "cell_type": "code",
      "execution_count": null,
      "metadata": {
        "colab": {
          "base_uri": "https://localhost:8080/"
        },
        "id": "D88pFA2UwooA",
        "outputId": "753d2c19-126b-4ddf-eb17-56b80af9abec"
      },
      "outputs": [
        {
          "output_type": "execute_result",
          "data": {
            "text/plain": [
              "<=50K.    0.649983\n",
              ">50K.     0.350017\n",
              "Name: income, dtype: float64"
            ]
          },
          "metadata": {},
          "execution_count": 48
        }
      ],
      "source": [
        "# table proportion of income classes in training data\n",
        "adult_train_rebal['income'].value_counts() / adult_train_rebal.shape[0]"
      ]
    },
    {
      "cell_type": "markdown",
      "metadata": {
        "id": "_S7bcZwl0sK9"
      },
      "source": [
        "Validate your partition by performing a two‐sample Z‐test for the difference in means for the mean age in the training set versus the mean age in the test set."
      ]
    },
    {
      "cell_type": "code",
      "execution_count": null,
      "metadata": {
        "id": "Lic1u3wgxDqG"
      },
      "outputs": [],
      "source": [
        "# No editing beyond this point, just run all the cells and make sure there is no errors.\n",
        "\n",
        "from numpy import sqrt, abs, round\n",
        "from scipy.stats import norm\n",
        "from statistics import stdev\n",
        "\n",
        "n1 = adult_train.shape[0]\n",
        "x1 = adult_train['age'].mean()\n",
        "sd1 = stdev(adult_train['age'])\n",
        "\n",
        "n2 = adult_test.shape[0]\n",
        "x2 = adult_test['age'].mean()\n",
        "sd2 = stdev(adult_test['age'])"
      ]
    },
    {
      "cell_type": "code",
      "execution_count": null,
      "metadata": {
        "colab": {
          "base_uri": "https://localhost:8080/"
        },
        "id": "w1-dz9zWFntN",
        "outputId": "bfd19fd4-ea6a-4e64-f2ec-991de20889af"
      },
      "outputs": [
        {
          "output_type": "stream",
          "name": "stdout",
          "text": [
            "Shape of trainig data 12500\n",
            "Mean of age in the training data 38.61032\n",
            "Standard deviation of age in training date 13.708895805408117 \n",
            "\n",
            "Shape of test data 12500\n",
            "Mean of age in the test data 38.60352\n",
            "Standard deviation of age in the test data 13.667157235670935\n"
          ]
        }
      ],
      "source": [
        "print(\"Shape of trainig data\", n1)\n",
        "print(\"Mean of age in the training data\", x1)\n",
        "print(\"Standard deviation of age in training date\", sd1, \"\\n\")\n",
        "\n",
        "print(\"Shape of test data\", n2)\n",
        "print(\"Mean of age in the test data\", x2)\n",
        "print(\"Standard deviation of age in the test data\", sd2)"
      ]
    },
    {
      "cell_type": "code",
      "execution_count": null,
      "metadata": {
        "colab": {
          "base_uri": "https://localhost:8080/"
        },
        "id": "Px5n8yBYxDmw",
        "outputId": "5e88a0c2-7fb5-4bbb-bf49-b44ea6ec0db7"
      },
      "outputs": [
        {
          "output_type": "stream",
          "name": "stdout",
          "text": [
            "0.17314156314601958\n"
          ]
        }
      ],
      "source": [
        "# calculate the denominator pooled standard error\n",
        "pooledSE = sqrt(sd1**2/n1 + sd2**2/n2)\n",
        "print(pooledSE)"
      ]
    },
    {
      "cell_type": "code",
      "execution_count": null,
      "metadata": {
        "id": "Mtf-Eq-SxDkT"
      },
      "outputs": [],
      "source": [
        "#calculate z value\n",
        "z = round(((x1 - x2) - 0) /pooledSE,6)\n",
        "# caluculate p-value\n",
        "pval =  round(2*(1 - norm.cdf(abs(z))),6)"
      ]
    },
    {
      "cell_type": "code",
      "execution_count": null,
      "metadata": {
        "colab": {
          "base_uri": "https://localhost:8080/"
        },
        "id": "3gpPVfpSxDhi",
        "outputId": "4bd5b900-8ea8-485c-c263-caa422b190e7"
      },
      "outputs": [
        {
          "output_type": "stream",
          "name": "stdout",
          "text": [
            "Zed Value:  0.039274\n",
            "P-Value:  0.968672\n"
          ]
        }
      ],
      "source": [
        "print(\"Zed Value: \", z)\n",
        "print(\"P-Value: \",pval)"
      ]
    },
    {
      "cell_type": "markdown",
      "metadata": {
        "id": "84M9__P805EK"
      },
      "source": [
        "Validate your partition by performing a two‐sample Z‐test for the difference in proportions for the proportion of >50 K records in the training set versus the proportion of >50 K records in the test set."
      ]
    },
    {
      "cell_type": "code",
      "execution_count": null,
      "metadata": {
        "id": "XUpBwv_DxDe7"
      },
      "outputs": [],
      "source": [
        "n1 = adult_train.shape[0]\n",
        "x1 = adult_train.loc[adult_train['income']=='>50K.'].shape[0]\n",
        "p1 = x1 / n1\n",
        "\n",
        "n2 = adult_test.shape[0]\n",
        "x2 = adult_test.loc[adult_test['income']=='>50K.'].shape[0]\n",
        "p2 = x2 / n2\n",
        "\n",
        "p = (x1+x2)/(n1+n2)\n",
        "\n",
        "#calculate z value\n",
        "z = round(((p1-p2)-0)/sqrt(p*(1-p)*(1/n1+1/n2)),6)\n",
        "\n",
        "14.\t# caluculate p-value\n",
        "pval =  round(2*(1 - norm.cdf(abs(z))),6)"
      ]
    },
    {
      "cell_type": "code",
      "execution_count": null,
      "metadata": {
        "colab": {
          "base_uri": "https://localhost:8080/"
        },
        "id": "xLkFWrrDJJ84",
        "outputId": "ca597406-c0b7-4406-d5d1-64f45cffd5a2"
      },
      "outputs": [
        {
          "output_type": "stream",
          "name": "stdout",
          "text": [
            "Zed Value:  -0.32609\n",
            "P-Value:  0.744356\n"
          ]
        }
      ],
      "source": [
        "print(\"Zed Value: \", z)\n",
        "print(\"P-Value: \",pval)"
      ]
    },
    {
      "cell_type": "markdown",
      "metadata": {
        "id": "KTqJlSwM0-3S"
      },
      "source": [
        "7. Because the p-value > than alpha 0.05 the null hypothesis H0 is accepted. Meaning that there is no evidence of significant difference between the >50K income proportions in the training and test datasets"
      ]
    },
    {
      "cell_type": "code",
      "execution_count": null,
      "metadata": {
        "deletable": false,
        "editable": false,
        "colab": {
          "base_uri": "https://localhost:8080/"
        },
        "id": "NYkzvYMLPPCj",
        "outputId": "9579c6ed-a436-4fe6-bd37-c8fe469cafe0"
      },
      "outputs": [
        {
          "output_type": "stream",
          "name": "stdout",
          "text": [
            "Hostname: 9ace7d678c0c\n",
            "IP Address: 172.28.0.12\n",
            "Time Stamp: 2022-12-16 14:36:41\n"
          ]
        }
      ],
      "source": [
        "import datetime\n",
        "import socket\n",
        "def get_Host_name_IP():\n",
        "    try:\n",
        "        host_name = socket.gethostname()\n",
        "        host_ip = socket.gethostbyname(host_name)\n",
        "        print(\"Hostname:\",host_name)\n",
        "        print(\"IP Address:\",host_ip)\n",
        "    except:\n",
        "        print(\"No visible IP Address\")\n",
        "get_Host_name_IP()\n",
        "now = datetime.datetime.now()\n",
        "print (\"Time Stamp:\", now.strftime(\"%Y-%m-%d %H:%M:%S\"))"
      ]
    }
  ],
  "metadata": {
    "colab": {
      "provenance": []
    },
    "kernelspec": {
      "display_name": "Python 3",
      "language": "python",
      "name": "python3"
    },
    "language_info": {
      "codemirror_mode": {
        "name": "ipython",
        "version": 3
      },
      "file_extension": ".py",
      "mimetype": "text/x-python",
      "name": "python",
      "nbconvert_exporter": "python",
      "pygments_lexer": "ipython3",
      "version": "3.8.8"
    }
  },
  "nbformat": 4,
  "nbformat_minor": 0
}