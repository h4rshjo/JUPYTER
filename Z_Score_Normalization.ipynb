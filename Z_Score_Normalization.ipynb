{
  "nbformat": 4,
  "nbformat_minor": 0,
  "metadata": {
    "colab": {
      "provenance": []
    },
    "kernelspec": {
      "name": "python3",
      "display_name": "Python 3"
    },
    "language_info": {
      "name": "python"
    }
  },
  "cells": [
    {
      "cell_type": "code",
      "source": [
        "# STEP 1: Import required libraries\n",
        "import pandas as pd\n",
        "from sklearn.preprocessing import StandardScaler\n",
        "import matplotlib.pyplot as plt"
      ],
      "metadata": {
        "id": "2tlH0uQgaJ6g"
      },
      "execution_count": null,
      "outputs": []
    },
    {
      "cell_type": "code",
      "source": [
        "# STEP 2: Download the dataset\n",
        "url = \"https://github.com/apaultomas/mydataset/raw/main/weather.csv\""
      ],
      "metadata": {
        "id": "JnMhWSC0dwM6"
      },
      "execution_count": null,
      "outputs": []
    },
    {
      "cell_type": "code",
      "source": [
        "# STEP 3: Load the dataset\n",
        "try:\n",
        "    df = pd.read_csv(url)\n",
        "except pd.errors.ParserError:\n",
        "    print(\"Error: Failed to parse the CSV file. Please check if the dataset is in the correct format.\")\n",
        "    exit()"
      ],
      "metadata": {
        "id": "vKEIVgV9dwKe"
      },
      "execution_count": null,
      "outputs": []
    },
    {
      "cell_type": "code",
      "source": [
        "# Identify the numerical feature that requires normalization\n",
        "feature_to_normalize = \"Pressure9am\"\n",
        "data_to_normalize = df[[feature_to_normalize]]"
      ],
      "metadata": {
        "id": "wfQ26N-VdwHz"
      },
      "execution_count": null,
      "outputs": []
    },
    {
      "cell_type": "code",
      "source": [
        "# STEP 4: Apply Z-Score Normalization\n",
        "scaler = StandardScaler()\n",
        "normalized_data = scaler.fit_transform(data_to_normalize)"
      ],
      "metadata": {
        "id": "pl8FoqwKdwFJ"
      },
      "execution_count": null,
      "outputs": []
    },
    {
      "cell_type": "code",
      "source": [
        "# STEP 5: Create a new DataFrame\n",
        "df_normalized = pd.DataFrame(normalized_data, columns=[feature_to_normalize])"
      ],
      "metadata": {
        "id": "6xEpuuGJdwCL"
      },
      "execution_count": null,
      "outputs": []
    },
    {
      "cell_type": "code",
      "source": [
        "# STEP 6: Display the original and normalized datasets\n",
        "print(\"Original Dataset:\")\n",
        "print(df[[feature_to_normalize]].head())\n",
        "\n",
        "print(\"\\nNormalized Dataset:\")\n",
        "print(df_normalized.head())"
      ],
      "metadata": {
        "colab": {
          "base_uri": "https://localhost:8080/"
        },
        "id": "5zqSej1kdv_J",
        "outputId": "92a72b7d-5c08-442b-c967-37029c46431c"
      },
      "execution_count": null,
      "outputs": [
        {
          "output_type": "stream",
          "name": "stdout",
          "text": [
            "Original Dataset:\n",
            "   Pressure9am\n",
            "0       1019.7\n",
            "1       1012.4\n",
            "2       1009.5\n",
            "3       1005.5\n",
            "4       1018.3\n",
            "\n",
            "Normalized Dataset:\n",
            "   Pressure9am\n",
            "0    -0.001350\n",
            "1    -1.094644\n",
            "2    -1.528966\n",
            "3    -2.128031\n",
            "4    -0.211023\n"
          ]
        }
      ]
    },
    {
      "cell_type": "code",
      "source": [
        "# STEP 7: Analyze the impact of Z-Score Normalization\n",
        "print(\"\\nOriginal Dataset Statistics:\")\n",
        "print(df[[feature_to_normalize]].describe())\n",
        "\n",
        "print(\"\\nNormalized Dataset Statistics:\")\n",
        "print(df_normalized.describe())"
      ],
      "metadata": {
        "colab": {
          "base_uri": "https://localhost:8080/"
        },
        "id": "7SKMVqvRg5ln",
        "outputId": "16d886b7-f41e-4fe6-d8b1-296fab5bf4d6"
      },
      "execution_count": null,
      "outputs": [
        {
          "output_type": "stream",
          "name": "stdout",
          "text": [
            "\n",
            "Original Dataset Statistics:\n",
            "       Pressure9am\n",
            "count   366.000000\n",
            "mean   1019.709016\n",
            "std       6.686212\n",
            "min     996.500000\n",
            "25%    1015.350000\n",
            "50%    1020.150000\n",
            "75%    1024.475000\n",
            "max    1035.700000\n",
            "\n",
            "Normalized Dataset Statistics:\n",
            "        Pressure9am\n",
            "count  3.660000e+02\n",
            "mean  -2.135511e-14\n",
            "std    1.001369e+00\n",
            "min   -3.475928e+00\n",
            "25%   -6.528336e-01\n",
            "50%    6.604447e-02\n",
            "75%    7.137836e-01\n",
            "max    2.394910e+00\n"
          ]
        }
      ]
    },
    {
      "cell_type": "code",
      "source": [
        "# STEP 8: Visualization\n",
        "plt.figure(figsize=(10, 4))\n",
        "\n",
        "# Original data distribution\n",
        "plt.subplot(1, 2, 1)\n",
        "plt.hist(df[feature_to_normalize], bins=30)\n",
        "plt.title(\"Original Data Distribution\")\n",
        "plt.xlabel(feature_to_normalize)\n",
        "plt.ylabel(\"Frequency\")\n",
        "\n",
        "# Normalized data distribution\n",
        "plt.subplot(1, 2, 2)\n",
        "plt.hist(df_normalized[feature_to_normalize], bins=30)\n",
        "plt.title(\"Normalized Data Distribution\")\n",
        "plt.xlabel(\"Normalized \" + feature_to_normalize)\n",
        "plt.ylabel(\"Frequency\")\n",
        "\n",
        "# Adjust x-axis range for normalized data\n",
        "plt.xlim(df_normalized[feature_to_normalize].min(), df_normalized[feature_to_normalize].max())\n",
        "\n",
        "plt.tight_layout()\n",
        "plt.show()"
      ],
      "metadata": {
        "colab": {
          "base_uri": "https://localhost:8080/",
          "height": 407
        },
        "id": "hynUo189dv5k",
        "outputId": "82f2abf0-9988-41b0-da41-d9802ce9a4d6"
      },
      "execution_count": null,
      "outputs": [
        {
          "output_type": "display_data",
          "data": {
            "text/plain": [
              "<Figure size 1000x400 with 2 Axes>"
            ],
            "image/png": "[encoded data removed]"
          },
          "metadata": {}
        }
      ]
    }
  ]
}